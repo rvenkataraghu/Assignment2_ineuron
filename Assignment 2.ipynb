{
 "cells": [
  {
   "cell_type": "markdown",
   "metadata": {},
   "source": [
    "# Assignment 2"
   ]
  },
  {
   "cell_type": "markdown",
   "metadata": {},
   "source": [
    "# Task 1:"
   ]
  },
  {
   "cell_type": "markdown",
   "metadata": {},
   "source": [
    "1.1\n",
    "Write a Python Program to implement your own myreduce() function which works exactly like Python's built-in function reduce()"
   ]
  },
  {
   "cell_type": "code",
   "execution_count": 155,
   "metadata": {},
   "outputs": [
    {
     "name": "stdout",
     "output_type": "stream",
     "text": [
      "15\n",
      "150\n",
      "Venkata Raghu Rampilla\n",
      "jdabfdjabebff;jEJFBAEJBFDJAF;JDFD;J\n"
     ]
    }
   ],
   "source": [
    "# Using reduce function\n",
    "\n",
    "from functools import reduce\n",
    "\n",
    "l1 = [1, 2, 3, 4, 5]\n",
    "l2 = [10, 20, 30, 40, 50]\n",
    "l3 = [\"Venkata \", \"Raghu \", \"Rampilla\"]\n",
    "l4 = [\"jdabfdjab\", \"ebff;jE\", \"JFBAEJBFDJAF;\", \"JDFD;J\"]\n",
    "\n",
    "print(reduce(lambda a, b: a + b, l1))\n",
    "print(reduce(lambda a, b: a + b, l2))\n",
    "print(reduce(lambda a, b: a + b, l3))\n",
    "print(reduce(lambda a, b: a + b, l4))"
   ]
  },
  {
   "cell_type": "code",
   "execution_count": 156,
   "metadata": {},
   "outputs": [
    {
     "name": "stdout",
     "output_type": "stream",
     "text": [
      "15\n",
      "150\n",
      "Venkata Raghu Rampilla\n",
      "jdabfdjabebff;jEJFBAEJBFDJAF;JDFD;J\n"
     ]
    }
   ],
   "source": [
    "# Creating myreduce\n",
    "\n",
    "def myreduce(l):\n",
    "    i = 1;\n",
    "    while i < len(l):\n",
    "        l[0] = l[0] + l[i]\n",
    "        i += 1;\n",
    "    return l[0]\n",
    "\n",
    "print(myreduce(l1))\n",
    "print(myreduce(l2))\n",
    "print(myreduce(l3))\n",
    "print(myreduce(l4))\n"
   ]
  },
  {
   "cell_type": "markdown",
   "metadata": {},
   "source": [
    "1.2\n",
    "Write a Python program to implement your own myfilter() function which works exactly like Python's built-in function filter()"
   ]
  },
  {
   "cell_type": "code",
   "execution_count": 157,
   "metadata": {},
   "outputs": [
    {
     "name": "stdout",
     "output_type": "stream",
     "text": [
      "[2, 4, 6]\n",
      "[]\n",
      "[2, 4, 24, 52, 100]\n"
     ]
    }
   ],
   "source": [
    "# Using filter function\n",
    "l1 = [1, 2, 3, 4, 5, 6, 7]\n",
    "l2 = [3, 5, 7, 9, 13]\n",
    "l3 = [2, 4, 24, 52, 100]\n",
    "\n",
    "print(list(filter(lambda x: (x % 2 == 0), l1)))  \n",
    "print(list(filter(lambda x: (x % 2 == 0), l2))) \n",
    "print(list(filter(lambda x: (x % 2 == 0), l3))) "
   ]
  },
  {
   "cell_type": "code",
   "execution_count": 158,
   "metadata": {},
   "outputs": [
    {
     "name": "stdout",
     "output_type": "stream",
     "text": [
      "[2, 4, 6]\n",
      "[]\n",
      "[2, 4, 24, 52, 100]\n"
     ]
    }
   ],
   "source": [
    "# Creating myfilter\n",
    "\n",
    "def func_cond(x):\n",
    "    if(x % 2 == 0):\n",
    "        return True\n",
    "    else:\n",
    "        return False\n",
    "\n",
    "def myfilter(l):\n",
    "    result = []\n",
    "    for i in l:\n",
    "        if(func_cond(i)):\n",
    "            result.append(i)\n",
    "    return result\n",
    "\n",
    "\n",
    "print(myfilter(l1))\n",
    "print(myfilter(l2))\n",
    "print(myfilter(l3))"
   ]
  },
  {
   "cell_type": "markdown",
   "metadata": {},
   "source": [
    "2.\n",
    "Implement List comprehensions to produce the following lists.\n",
    "Write List comprehensions to produce the following Lists\n",
    "['A', 'C', 'A', 'D', 'G', 'I', ’L’, ‘ D’]\n",
    "['x', 'xx', 'xxx', 'xxxx', 'y', 'yy', 'yyy', 'yyyy', 'z', 'zz', 'zzz', 'zzzz']\n",
    "['x', 'y', 'z', 'xx', 'yy', 'zz', 'xx', 'yy', 'zz', 'xxxx', 'yyyy', 'zzzz']\n",
    "[[2], [3], [4], [3], [4], [5], [4], [5], [6]]\n",
    "[[2, 3, 4, 5], [3, 4, 5, 6], [4, 5, 6, 7], [5, 6, 7, 8]]\n",
    "[(1, 1), (2, 1), (3, 1), (1, 2), (2, 2), (3, 2), (1, 3), (2, 3), (3, 3)]"
   ]
  },
  {
   "cell_type": "code",
   "execution_count": 169,
   "metadata": {},
   "outputs": [
    {
     "name": "stdout",
     "output_type": "stream",
     "text": [
      "['A', 'C', 'A', 'D', 'G', 'I', 'L', 'D']\n",
      "['x', 'xx', 'xxx', 'xxxx', 'y', 'yy', 'yyy', 'yyyy', 'z', 'zz', 'zzz', 'zzzz']\n",
      "['x', 'y', 'z', 'xx', 'yy', 'zz', 'xx', 'yy', 'zz', 'xxxx', 'yyyy', 'zzzz']\n",
      "[[2], [3], [4], [3], [4], [5], [4], [5], [6]]\n",
      "[[2, 3, 4, 5], [3, 4, 5, 6], [4, 5, 6, 7], [5, 6, 7, 8]]\n",
      "[(1, 1), (2, 1), (3, 1), (1, 2), (2, 2), (3, 2), (1, 3), (2, 3), (3, 3)]\n"
     ]
    }
   ],
   "source": [
    "#printing - ['A', 'C', 'A', 'D', 'G', 'I', ’L’, ‘ D’]\n",
    "print([alphabet for alphabet in \"ACADGILD\"])\n",
    "\n",
    "#printing - ['x', 'xx', 'xxx', 'xxxx', 'y', 'yy', 'yyy', 'yyyy', 'z', 'zz', 'zzz', 'zzzz']\n",
    "print([item*num for item in ['x','y','z'] for num in range(1,5)])\n",
    "\n",
    "#printing - ['x', 'y', 'z', 'xx', 'yy', 'zz', 'xx', 'yy', 'zz', 'xxxx', 'yyyy', 'zzzz']\n",
    "print([item*num for num in [1, 2, 2, 4] for item in ['x','y','z']])\n",
    "\n",
    "#printing - [[2], [3], [4], [3], [4], [5], [4], [5], [6]]\n",
    "print([[num+itr] for itr in range(1, 4) for num in range(1, 4)])\n",
    "\n",
    "#printing - [[2, 3, 4, 5], [3, 4, 5, 6], [4, 5, 6, 7], [5, 6, 7, 8]]\n",
    "print([[itr+num for itr in range(2,6)] for num in range(0, 4)])\n",
    "\n",
    "#printing - [(1, 1), (2, 1), (3, 1), (1, 2), (2, 2), (3, 2), (1, 3), (2, 3), (3, 3)]\n",
    "print([(num, itr) for itr in range(1, 4) for num in range(1, 4)])"
   ]
  },
  {
   "cell_type": "markdown",
   "metadata": {},
   "source": [
    "3.\n",
    "Implement a function longestWord() that takes a list of words and returns the longest one."
   ]
  },
  {
   "cell_type": "code",
   "execution_count": 144,
   "metadata": {},
   "outputs": [
    {
     "name": "stdout",
     "output_type": "stream",
     "text": [
      "RaghuVenkataRampilla\n",
      "TodayisChirstmas\n",
      "Chirstmas\n"
     ]
    }
   ],
   "source": [
    "def longestWord(list1):    \n",
    "    return reduce(lambda x, y: (x + y), list1)\n",
    "\n",
    "print(longestWord([\"Raghu\", \"Venkata\", \"Rampilla\"]))\n",
    "print(longestWord([\"Today\", \"is\", \"Chirstmas\"]))\n",
    "print(longestWord([\"Chir\", \"st\", \"mas\"]))"
   ]
  },
  {
   "cell_type": "markdown",
   "metadata": {},
   "source": [
    "# Task 2:"
   ]
  },
  {
   "cell_type": "markdown",
   "metadata": {},
   "source": [
    "1.1\n",
    "Write a Python Program(with class concepts) to find the area of the triangle using the below formula.\n",
    "area = (s*(s-a)*(s-b)*(s-c)) ** 0.5\n",
    "Function to take the length of the sides of triangle from user should be defined in the parent class and function to calculate the area should be defined in subclass."
   ]
  },
  {
   "cell_type": "code",
   "execution_count": 148,
   "metadata": {},
   "outputs": [
    {
     "name": "stdout",
     "output_type": "stream",
     "text": [
      "4330.127018922193\n",
      "43.30127018922193\n"
     ]
    }
   ],
   "source": [
    "class areaOfTriangle:\n",
    "    def __init__(self, a, b, c):\n",
    "        self.a = a\n",
    "        self.b = b\n",
    "        self.c = c\n",
    "            \n",
    "class areaOfTriangleSubClass(areaOfTriangle):\n",
    "    def area(self):\n",
    "        s = (self.a + self.b + self.c)/2\n",
    "        area = (s*(s-self.a)*(s-self.b)*(s-self.c)) ** 0.5\n",
    "        return area\n",
    "    \n",
    "    \n",
    "areaOfTriangle1 = areaOfTriangleSubClass(100,100,100)\n",
    "areaOfTriangle2 = areaOfTriangleSubClass(10,10,10)\n",
    "print(areaOfTriangle1.area())\n",
    "print(areaOfTriangle2.area())\n"
   ]
  },
  {
   "cell_type": "markdown",
   "metadata": {},
   "source": [
    "1.2\n",
    "Write a function filter_long_words() that takes a list of words and an integer n and returns the list of words that are longer than n."
   ]
  },
  {
   "cell_type": "code",
   "execution_count": 133,
   "metadata": {},
   "outputs": [
    {
     "name": "stdout",
     "output_type": "stream",
     "text": [
      "['Today', 'is', 'great', 'day']\n",
      "['Today', 'great', 'day']\n",
      "['Today', 'great']\n",
      "[]\n"
     ]
    }
   ],
   "source": [
    "def filter_long_words(list1, n):\n",
    "    return list(filter(lambda x: (len(x)>n), list1))\n",
    "\n",
    "print(filter_long_words([\"Today\", \"is\", \"great\", \"day\"], 1))\n",
    "print(filter_long_words([\"Today\", \"is\", \"great\", \"day\"], 2))\n",
    "print(filter_long_words([\"Today\", \"is\", \"great\", \"day\"], 4))\n",
    "print(filter_long_words([\"Today\", \"is\", \"great\", \"day\"], 5))"
   ]
  },
  {
   "cell_type": "markdown",
   "metadata": {},
   "source": [
    "2.1\n",
    "Write a Python program using function concept that maps list of words into a list of integers representing the lengths of the corresponding words.\n",
    "Hint: If a list [ ab,cde,erty] is passed on to the python function output should come as [2,3,4]\n",
    "Here 2,3 and 4 are the lengths of the words in the list."
   ]
  },
  {
   "cell_type": "code",
   "execution_count": 170,
   "metadata": {},
   "outputs": [
    {
     "name": "stdout",
     "output_type": "stream",
     "text": [
      "[6, 4, 5]\n",
      "[5, 2, 5, 3]\n",
      "[5, 2, 9, 0]\n"
     ]
    }
   ],
   "source": [
    "def wordsToInt(list1):\n",
    "    newlist = []\n",
    "    for i in list1:\n",
    "        newlist.append(len(i))\n",
    "    return newlist\n",
    "\n",
    "print(wordsToInt(['abdddd','cdde','ertyd']))\n",
    "print(wordsToInt([\"Today\", \"is\", \"great\", \"day\"]))\n",
    "print(wordsToInt([\"Today\", \"is\", \"Chirstmas\", \"\"]))"
   ]
  },
  {
   "cell_type": "markdown",
   "metadata": {},
   "source": [
    "2.2\n",
    "Write a Python function which takes a character (i.e. a string of length 1) and returns True if it is a vowel, False otherwise."
   ]
  },
  {
   "cell_type": "code",
   "execution_count": 149,
   "metadata": {},
   "outputs": [
    {
     "name": "stdout",
     "output_type": "stream",
     "text": [
      "False\n",
      "True\n",
      "False\n",
      "True\n",
      "True\n"
     ]
    }
   ],
   "source": [
    "def selVowel(char):\n",
    "    boolReturn = False\n",
    "    for v in ['a', 'e', 'i', 'o', 'u']:\n",
    "        if(char == v):\n",
    "            boolReturn = True\n",
    "    return boolReturn\n",
    "        \n",
    "print(selVowel('b'))\n",
    "print(selVowel('a'))\n",
    "print(selVowel('z'))\n",
    "print(selVowel('i'))\n",
    "print(selVowel('u'))"
   ]
  },
  {
   "cell_type": "code",
   "execution_count": null,
   "metadata": {},
   "outputs": [],
   "source": []
  }
 ],
 "metadata": {
  "kernelspec": {
   "display_name": "Python 3",
   "language": "python",
   "name": "python3"
  },
  "language_info": {
   "codemirror_mode": {
    "name": "ipython",
    "version": 3
   },
   "file_extension": ".py",
   "mimetype": "text/x-python",
   "name": "python",
   "nbconvert_exporter": "python",
   "pygments_lexer": "ipython3",
   "version": "3.7.4"
  }
 },
 "nbformat": 4,
 "nbformat_minor": 2
}
